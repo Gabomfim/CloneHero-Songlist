{
 "cells": [
  {
   "cell_type": "code",
   "execution_count": 47,
   "id": "d7e32597-f499-4b46-88a7-1dc550303708",
   "metadata": {},
   "outputs": [
    {
     "name": "stdout",
     "output_type": "stream",
     "text": [
      "Requirement already satisfied: chefboost in /usr/local/lib/python3.7/site-packages (0.0.13)\n",
      "Requirement already satisfied: numpy>=1.14.0 in /usr/local/lib/python3.7/site-packages (from chefboost) (1.18.5)\n",
      "Requirement already satisfied: psutil>=5.4.3 in /usr/local/lib/python3.7/site-packages (from chefboost) (5.8.0)\n",
      "Requirement already satisfied: pandas>=0.22.0 in /usr/local/lib/python3.7/site-packages (from chefboost) (1.3.0)\n",
      "Requirement already satisfied: tqdm>=4.30.0 in /usr/local/lib/python3.7/site-packages (from chefboost) (4.31.1)\n",
      "Requirement already satisfied: pytz>=2017.3 in /usr/local/lib/python3.7/site-packages (from pandas>=0.22.0->chefboost) (2021.1)\n",
      "Requirement already satisfied: python-dateutil>=2.7.3 in /usr/local/lib/python3.7/site-packages (from pandas>=0.22.0->chefboost) (2.8.1)\n",
      "Requirement already satisfied: six>=1.5 in /usr/local/lib/python3.7/site-packages (from python-dateutil>=2.7.3->pandas>=0.22.0->chefboost) (1.15.0)\n"
     ]
    }
   ],
   "source": [
    "!pip install chefboost"
   ]
  },
  {
   "cell_type": "code",
   "execution_count": null,
   "id": "fcf328b8-8b2e-4e53-bebc-58288adf4de0",
   "metadata": {},
   "outputs": [],
   "source": [
    "from chefboost import Chefboost as chef\n",
    "import pandas as pd"
   ]
  },
  {
   "cell_type": "code",
   "execution_count": null,
   "id": "ce69f67d-1508-4283-b37b-eda84762b0c3",
   "metadata": {},
   "outputs": [],
   "source": []
  },
  {
   "cell_type": "code",
   "execution_count": 77,
   "id": "63d72e7b-9c5c-4521-8f36-ff57969338ed",
   "metadata": {},
   "outputs": [],
   "source": [
    "# Importar os dados - The data contains 5110 observations with 12 attributes.\n",
    "path = \"./data/healthcare-dataset-stroke-data.csv\"\n",
    "\n",
    "# Criar um data frame - registramos a coluna 'id' como coluna de indexação.\n",
    "df = pd.read_csv(path, index_col=0)\n",
    "df = df.rename(columns={\"stroke\": \"Decision\"})\n",
    "df['Decision'] = df['Decision'].astype(object)"
   ]
  },
  {
   "cell_type": "code",
   "execution_count": 78,
   "id": "1ef4830c-279b-4b28-baf5-d8a609f26105",
   "metadata": {},
   "outputs": [
    {
     "data": {
      "text/html": [
       "<div>\n",
       "<style scoped>\n",
       "    .dataframe tbody tr th:only-of-type {\n",
       "        vertical-align: middle;\n",
       "    }\n",
       "\n",
       "    .dataframe tbody tr th {\n",
       "        vertical-align: top;\n",
       "    }\n",
       "\n",
       "    .dataframe thead th {\n",
       "        text-align: right;\n",
       "    }\n",
       "</style>\n",
       "<table border=\"1\" class=\"dataframe\">\n",
       "  <thead>\n",
       "    <tr style=\"text-align: right;\">\n",
       "      <th></th>\n",
       "      <th>gender</th>\n",
       "      <th>age</th>\n",
       "      <th>hypertension</th>\n",
       "      <th>heart_disease</th>\n",
       "      <th>ever_married</th>\n",
       "      <th>work_type</th>\n",
       "      <th>Residence_type</th>\n",
       "      <th>avg_glucose_level</th>\n",
       "      <th>bmi</th>\n",
       "      <th>smoking_status</th>\n",
       "      <th>Decision</th>\n",
       "    </tr>\n",
       "    <tr>\n",
       "      <th>id</th>\n",
       "      <th></th>\n",
       "      <th></th>\n",
       "      <th></th>\n",
       "      <th></th>\n",
       "      <th></th>\n",
       "      <th></th>\n",
       "      <th></th>\n",
       "      <th></th>\n",
       "      <th></th>\n",
       "      <th></th>\n",
       "      <th></th>\n",
       "    </tr>\n",
       "  </thead>\n",
       "  <tbody>\n",
       "    <tr>\n",
       "      <th>9046</th>\n",
       "      <td>Male</td>\n",
       "      <td>67.0</td>\n",
       "      <td>0</td>\n",
       "      <td>1</td>\n",
       "      <td>Yes</td>\n",
       "      <td>Private</td>\n",
       "      <td>Urban</td>\n",
       "      <td>228.69</td>\n",
       "      <td>36.6</td>\n",
       "      <td>formerly smoked</td>\n",
       "      <td>1</td>\n",
       "    </tr>\n",
       "    <tr>\n",
       "      <th>51676</th>\n",
       "      <td>Female</td>\n",
       "      <td>61.0</td>\n",
       "      <td>0</td>\n",
       "      <td>0</td>\n",
       "      <td>Yes</td>\n",
       "      <td>Self-employed</td>\n",
       "      <td>Rural</td>\n",
       "      <td>202.21</td>\n",
       "      <td>NaN</td>\n",
       "      <td>never smoked</td>\n",
       "      <td>1</td>\n",
       "    </tr>\n",
       "    <tr>\n",
       "      <th>31112</th>\n",
       "      <td>Male</td>\n",
       "      <td>80.0</td>\n",
       "      <td>0</td>\n",
       "      <td>1</td>\n",
       "      <td>Yes</td>\n",
       "      <td>Private</td>\n",
       "      <td>Rural</td>\n",
       "      <td>105.92</td>\n",
       "      <td>32.5</td>\n",
       "      <td>never smoked</td>\n",
       "      <td>1</td>\n",
       "    </tr>\n",
       "    <tr>\n",
       "      <th>60182</th>\n",
       "      <td>Female</td>\n",
       "      <td>49.0</td>\n",
       "      <td>0</td>\n",
       "      <td>0</td>\n",
       "      <td>Yes</td>\n",
       "      <td>Private</td>\n",
       "      <td>Urban</td>\n",
       "      <td>171.23</td>\n",
       "      <td>34.4</td>\n",
       "      <td>smokes</td>\n",
       "      <td>1</td>\n",
       "    </tr>\n",
       "    <tr>\n",
       "      <th>1665</th>\n",
       "      <td>Female</td>\n",
       "      <td>79.0</td>\n",
       "      <td>1</td>\n",
       "      <td>0</td>\n",
       "      <td>Yes</td>\n",
       "      <td>Self-employed</td>\n",
       "      <td>Rural</td>\n",
       "      <td>174.12</td>\n",
       "      <td>24.0</td>\n",
       "      <td>never smoked</td>\n",
       "      <td>1</td>\n",
       "    </tr>\n",
       "  </tbody>\n",
       "</table>\n",
       "</div>"
      ],
      "text/plain": [
       "       gender   age  hypertension  heart_disease ever_married      work_type  \\\n",
       "id                                                                             \n",
       "9046     Male  67.0             0              1          Yes        Private   \n",
       "51676  Female  61.0             0              0          Yes  Self-employed   \n",
       "31112    Male  80.0             0              1          Yes        Private   \n",
       "60182  Female  49.0             0              0          Yes        Private   \n",
       "1665   Female  79.0             1              0          Yes  Self-employed   \n",
       "\n",
       "      Residence_type  avg_glucose_level   bmi   smoking_status Decision  \n",
       "id                                                                       \n",
       "9046           Urban             228.69  36.6  formerly smoked        1  \n",
       "51676          Rural             202.21   NaN     never smoked        1  \n",
       "31112          Rural             105.92  32.5     never smoked        1  \n",
       "60182          Urban             171.23  34.4           smokes        1  \n",
       "1665           Rural             174.12  24.0     never smoked        1  "
      ]
     },
     "execution_count": 78,
     "metadata": {},
     "output_type": "execute_result"
    }
   ],
   "source": [
    "df.head()"
   ]
  },
  {
   "cell_type": "code",
   "execution_count": 79,
   "id": "838df4cf-1da9-4258-869b-9f15a58bef4d",
   "metadata": {},
   "outputs": [],
   "source": [
    "config = {'algorithm' : 'C4.5'}"
   ]
  },
  {
   "cell_type": "code",
   "execution_count": 80,
   "id": "ca9de359-5e9e-472a-8124-ea44fa5507a8",
   "metadata": {},
   "outputs": [
    {
     "name": "stdout",
     "output_type": "stream",
     "text": [
      "[INFO]:  4 CPU cores will be allocated in parallel running\n",
      "C4.5  tree is going to be built...\n",
      "-------------------------\n",
      "finished in  37.91204595565796  seconds\n",
      "-------------------------\n",
      "Evaluate  train set\n",
      "-------------------------\n",
      "Accuracy:  0.0 % on  5110  instances\n",
      "Labels:  [1 0]\n",
      "Confusion matrix:  [[0, 0], [0, 0]]\n",
      "Precision:  0.0 %, Recall:  0.0 %, F1:  0.0 %\n"
     ]
    }
   ],
   "source": [
    "model = chef.fit(df, config)"
   ]
  },
  {
   "cell_type": "code",
   "execution_count": null,
   "id": "c2a69fab-d534-4fd4-b400-4fe6db970a51",
   "metadata": {},
   "outputs": [],
   "source": []
  },
  {
   "cell_type": "code",
   "execution_count": null,
   "id": "a566c468-6483-47f8-9303-97ff410e72ec",
   "metadata": {},
   "outputs": [],
   "source": []
  }
 ],
 "metadata": {
  "kernelspec": {
   "display_name": "Python 3 (ipykernel)",
   "language": "python",
   "name": "python3"
  },
  "language_info": {
   "codemirror_mode": {
    "name": "ipython",
    "version": 3
   },
   "file_extension": ".py",
   "mimetype": "text/x-python",
   "name": "python",
   "nbconvert_exporter": "python",
   "pygments_lexer": "ipython3",
   "version": "3.7.6"
  }
 },
 "nbformat": 4,
 "nbformat_minor": 5
}
