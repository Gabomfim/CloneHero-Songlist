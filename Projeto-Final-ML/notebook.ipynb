{
 "cells": [
  {
   "cell_type": "markdown",
   "metadata": {
    "cell_id": "00002-ece329b9-9f13-4fd6-af8c-ac93d1ec4c9b",
    "deepnote_cell_type": "markdown",
    "tags": []
   },
   "source": [
    "# Projeto Final - Prevenção de Acidente Vascular Cerebral\n",
    "\n",
    "| Nome   | |RA | \n",
    "| :-------- |-| :---------- |\n",
    "| Gabriel Silveira     ||197244     |\n",
    "| Karen Baliero ||219534       |\n",
    "| Mariana Izumizawa ||221859       |\n",
    "| Matheus Hatzlhoffer ||222174       |"
   ]
  },
  {
   "cell_type": "markdown",
   "metadata": {
    "cell_id": "00001-afa76898-38f3-48d4-a3be-bb7dff3c9c40",
    "deepnote_cell_type": "markdown",
    "tags": []
   },
   "source": [
    "# Backlog\n",
    "- [X] **Silvs:** Lidar com dados incompletos.\n",
    "- [ ] **Silvs:** Dividir o dataset em treino e teste.\n",
    "- [ ] Importar a biblioteca com o algoritmo de árvores de decisão C4.5 (https://github.com/serengil/chefboost).\n",
    "- [ ] Verificar possibilidade do uso de ensembles.\n"
   ]
  },
  {
   "cell_type": "markdown",
   "metadata": {
    "cell_id": "00002-6da98f0e-27a4-4734-821c-ad5918e4fdea",
    "deepnote_cell_type": "markdown",
    "tags": []
   },
   "source": [
    "#### Alguns dado que eu não sei onde colocar:\n",
    "\n",
    "O Acidente Vascular Cerebral (AVC) é uma síndrome neurológica com grande\n",
    "prevalência em adultos e idosos, sendo também umas das maiores causas de mortalidade\n",
    "no mundo, e uma das principais causas de internações. Sua incidência é maior após o 65\n",
    "anos, dobrando a cada década após os 55 anos de idade (GILES; ROTHWELL, 2008;\n",
    "PEREIRA et al., 2009).\n",
    "\n",
    "Segundo a Organização Mundial de Saúde (OMS), o AVC refere-se a um rápido\n",
    "desenvolvimento de sinais clínicos de distúrbios focais com a apresentação de sintomas\n",
    "iguais ou superiores há 24 horas, consequentemente provocando alterações nos planos\n",
    "cognitivo e sensório – motor (BRASIL, 2013).\n",
    "\n",
    "O AVC é a segunda maior causa de morte no mundo, com aproximadamente 5,7\n",
    "milhões de casos por ano, caracterizando cerca de 10% de todos os óbitos mundiais. São\n",
    "descritos que 85% dos óbitos são relacionados com países não desenvolvidos ou em\n",
    "desenvolvimento (LOPEZ et al., 2006 apud CABRAL, 2009).\n",
    "\n",
    "\n",
    "#### Referências:\n",
    "\n",
    "- https://temasemsaude.com/wp-content/uploads/2016/08/16221.pdf\n",
    "- https://bvsms.saude.gov.br/acidente-vascular-cerebral/\n",
    "- https://repositorio.ipv.pt/bitstream/10400.19/1669/1/COELHO%20Rosa%20Maria%20Alves%20-%20Disserta%C3%A7ao%20mestrado.pdf"
   ]
  },
  {
   "cell_type": "markdown",
   "metadata": {
    "cell_id": "00001-38ba83a4-8b77-4ba3-8f12-2d91fa172b51",
    "deepnote_cell_type": "markdown",
    "tags": []
   },
   "source": [
    "# Título\n",
    "<br>\n",
    "\n",
    "### O que é Acidente Vascular Cerebral?\n",
    "\n",
    "Acidente Vascular Cerebral, comumente chamado pela sigla AVC, é o termo médico utilizado para o derrame, uma síndrome neurológica que afeta o fornecimento de sangue, oxigênio e suprimentos que mantêm o cérebro em pleno funcionamento. Essa condição que pode acometer qualquer indivíduo, mas principalmente adultos e idosos é uma das principais causas de morte no mundo e, de acordo com a OMS, é a principal causa de incapacidade no Brasil com uma incidência de 108 para cada 100 mil habitantes. \n",
    "\n",
    "O AVC pode afetar uma ou mais áreas do cérebro, danificando assim o sistema neurológico e pode até causar a morte dos neurônios se não tratado rapidamente e já que a multiplicação dos neurônios não ocorre igual a outras células no corpo pode deixar sequelas permanentes no indivíduo.\n",
    "\n",
    "Existem diversos tipos de AVC, o mais comum é do tipo isquêmico, onde acontece algum tipo de obstrução ou entupimento em uma ou mais veias que suprem o cérebro. Os outros tipos são: o AVC hemorrágico, que ocorre quando há um rompimento efetivo de um ou mais vaso sanguíneo no cérebro podendo gerar pressão no cérebro por causa da hemorragia e o AVC transitório, que ocorre quando há uma obstrução temporária no cérebro.\n",
    "\n",
    "O tratamento varia de caso a caso. Para o tipo isquêmico é possível dissolver o coágulo com medicamentos ou até fazer cirurgia para remover a obstrução, já no hemorrágico é preciso diminuir a pressão do cérebro. Porém esse tratamentos não irão curar as sequelas, mas sim, apenas, evitar que a condição piore devido ao prolongamento dos danos que o AVC pode causar.\n",
    "\n",
    "### Como identificar um AVC?\n",
    "\n",
    "Não existe um ou mais sintomas que definem com certeza o AVC, pois os sinais dependem do local da lesão, podendo ser encontrados vários tipos de acometimentos que afetam os planos cognitivo e sensório, entre eles:\n",
    "- fraqueza ou formigamento na face, no braço ou na perna, especialmente em um lado do corpo\n",
    "- confusão mental\n",
    "- alteração da fala ou compreensão\n",
    "- alteração do equilíbrio, coordenação, tontura ou alteração no andar\n",
    "- dor de cabeça súbita, intensa, sem causa aparente\n",
    "- rosto assimétrico, boca torta, sombrancelha caída\n",
    "\n",
    "### Fatores de Risco\n",
    "\n",
    "Assim como os sintomas do AVC, os fatores de risco são vários e se dividem em três grupos, sendo eles modificáveis, como tabagismo, hipertensão arterial sistêmica e diabetes mellitus; não modificáveis, como idade e sexo e grupos de risco potêncial, como sedentarismo, obesidade e alcolismo.\n",
    "\n",
    "### Nosso Objetivo\n",
    "\n",
    "Como o AVC é uma doença que atinge a vida de muitos brasiliros e sendo uma das principais responsáveis das causas de morte e intenação do país, nosso objetivo é, por meio de dados médicos, conscientizar as pessoas sobre a doença e traçar um perfil epidemiológico para ajudar no cálculo do riscos de AVC."
   ]
  },
  {
   "cell_type": "code",
   "execution_count": 1,
   "metadata": {
    "cell_id": "00007-24e8d70e-0948-4b55-b48b-1c4b132ffa0c",
    "deepnote_cell_type": "code",
    "deepnote_to_be_reexecuted": false,
    "execution_millis": 27,
    "execution_start": 1626489346606,
    "source_hash": "320f0bcb",
    "tags": []
   },
   "outputs": [],
   "source": [
    "# Não remover - config do notebook\n",
    "%load_ext autoreload\n",
    "%autoreload 2"
   ]
  },
  {
   "cell_type": "code",
   "execution_count": 2,
   "metadata": {
    "cell_id": "00004-57272e8f-5238-476d-a6f6-91d3000979c2",
    "deepnote_cell_type": "code",
    "deepnote_to_be_reexecuted": false,
    "execution_millis": 3601,
    "execution_start": 1626490133130,
    "source_hash": "11a1e73d",
    "tags": []
   },
   "outputs": [
    {
     "name": "stdout",
     "output_type": "stream",
     "text": [
      "Collecting chefboost\n",
      "  Downloading chefboost-0.0.13-py3-none-any.whl (25 kB)\n",
      "Collecting pandas>=0.22.0\n",
      "  Downloading pandas-1.3.0-cp37-cp37m-macosx_10_9_x86_64.whl (11.3 MB)\n",
      "\u001b[K     |████████████████████████████████| 11.3 MB 2.2 MB/s eta 0:00:01\n",
      "\u001b[?25hRequirement already satisfied: numpy>=1.14.0 in /usr/local/lib/python3.7/site-packages (from chefboost) (1.18.5)\n",
      "Collecting psutil>=5.4.3\n",
      "  Downloading psutil-5.8.0-cp37-cp37m-macosx_10_9_x86_64.whl (236 kB)\n",
      "\u001b[K     |████████████████████████████████| 236 kB 13.4 MB/s eta 0:00:01\n",
      "\u001b[?25hRequirement already satisfied: tqdm>=4.30.0 in /usr/local/lib/python3.7/site-packages (from chefboost) (4.31.1)\n",
      "Requirement already satisfied: python-dateutil>=2.7.3 in /usr/local/lib/python3.7/site-packages (from pandas>=0.22.0->chefboost) (2.8.1)\n",
      "Requirement already satisfied: pytz>=2017.3 in /usr/local/lib/python3.7/site-packages (from pandas>=0.22.0->chefboost) (2021.1)\n",
      "Requirement already satisfied: six>=1.5 in /usr/local/lib/python3.7/site-packages (from python-dateutil>=2.7.3->pandas>=0.22.0->chefboost) (1.15.0)\n",
      "Installing collected packages: psutil, pandas, chefboost\n",
      "Successfully installed chefboost-0.0.13 pandas-1.3.0 psutil-5.8.0\n",
      "\u001b[33mWARNING: You are using pip version 21.0.1; however, version 21.1.3 is available.\n",
      "You should consider upgrading via the '/usr/local/opt/python/bin/python3.7 -m pip install --upgrade pip' command.\u001b[0m\n",
      "Note: you may need to restart the kernel to use updated packages.\n"
     ]
    }
   ],
   "source": [
    "pip install chefboost"
   ]
  },
  {
   "cell_type": "code",
   "execution_count": 3,
   "metadata": {
    "cell_id": "00005-800c557e-1d50-4d89-bc97-f8c0db01017e",
    "deepnote_cell_type": "code",
    "deepnote_to_be_reexecuted": false,
    "execution_millis": 5658,
    "execution_start": 1626489469371,
    "source_hash": "37e5db24",
    "tags": []
   },
   "outputs": [
    {
     "name": "stdout",
     "output_type": "stream",
     "text": [
      "Collecting scikit-learn\n",
      "  Downloading scikit_learn-0.24.2-cp37-cp37m-macosx_10_13_x86_64.whl (7.2 MB)\n",
      "\u001b[K     |████████████████████████████████| 7.2 MB 2.6 MB/s eta 0:00:01\n",
      "\u001b[?25hRequirement already satisfied: numpy>=1.13.3 in /usr/local/lib/python3.7/site-packages (from scikit-learn) (1.18.5)\n",
      "Collecting joblib>=0.11\n",
      "  Downloading joblib-1.0.1-py3-none-any.whl (303 kB)\n",
      "\u001b[K     |████████████████████████████████| 303 kB 10.9 MB/s eta 0:00:01\n",
      "\u001b[?25hRequirement already satisfied: scipy>=0.19.1 in /usr/local/lib/python3.7/site-packages (from scikit-learn) (1.4.1)\n",
      "Collecting threadpoolctl>=2.0.0\n",
      "  Downloading threadpoolctl-2.2.0-py3-none-any.whl (12 kB)\n",
      "Installing collected packages: threadpoolctl, joblib, scikit-learn\n",
      "Successfully installed joblib-1.0.1 scikit-learn-0.24.2 threadpoolctl-2.2.0\n",
      "\u001b[33mWARNING: You are using pip version 21.0.1; however, version 21.1.3 is available.\n",
      "You should consider upgrading via the '/usr/local/opt/python/bin/python3.7 -m pip install --upgrade pip' command.\u001b[0m\n",
      "Note: you may need to restart the kernel to use updated packages.\n"
     ]
    }
   ],
   "source": [
    "pip install -U scikit-learn"
   ]
  },
  {
   "cell_type": "code",
   "execution_count": 130,
   "metadata": {
    "cell_id": "00002-4ecb3359-2923-4f5b-b69c-4909cdb75618",
    "deepnote_cell_type": "code",
    "deepnote_to_be_reexecuted": false,
    "execution_millis": 1630,
    "execution_start": 1626490137650,
    "source_hash": "3ff66424",
    "tags": []
   },
   "outputs": [],
   "source": [
    "import random\n",
    "import operator\n",
    "import os\n",
    "import subprocess\n",
    "import copy\n",
    "import matplotlib.pyplot as plt\n",
    "import numpy as np\n",
    "import pandas as pd\n",
    "import numpy as np\n",
    "from chefboost import Chefboost as chef\n",
    "from Classes import DataFrameImputer"
   ]
  },
  {
   "cell_type": "markdown",
   "metadata": {
    "cell_id": "00006-3076cf74-4386-47b3-8a08-54509928acc1",
    "deepnote_cell_type": "markdown",
    "tags": []
   },
   "source": [
    "# Banco de Dados\n",
    "Para construir um modelo preditor, utilizamos o dataset \"stroke-prediction-dataset\".\n",
    "\n",
    "Uma pesquisa registrou as informações de 5.110 participantes, coletando dados gerais sobre estes, e anotando a ocorrência de episódios de AVC.\n",
    "\n",
    "O dado anotado se encontra na coluna **'stroke'**, e informa se o participante já teve um AVC.\n",
    "\n",
    "O dataset disponibiliza 10 features que podem ser usadas para criar nosso classificador binário:\n",
    "\n",
    "- **gender:** o genêro do participante, pode assumir os seguintes valores:\n",
    "    - **Male:** Masculino\n",
    "    - **Female:** Feminino\n",
    "    - **Other:** Outro\n",
    "- **age:** a idade do participante da pesquisa\n",
    "- **hypertension:** binário indicando a presença de hipertensão\n",
    "- **heart_disease:** binário indicando a presença de doenças do coração\n",
    "- **ever_maried:** binário indicando se o participante já foi casado em algum momento da vida. Assume os valores **'Yes'** e **'No'**.\n",
    "- **work_type:** Tipo de trabalho realizado pelo participante. Pode assumir os seguintes valores categóricos:\n",
    "    - **Private:** trabalho em empresa privada.\n",
    "    - **Self-employed** empregado autônomo\n",
    "    - **children:** criança\n",
    "    - **Govt_job:** emprego público\n",
    "    - **Never_worked:** nunca trabalhou\n",
    "- **Residence_type:** dado categórico binário indicando se o participante mora em residência rural ou urbana. Pode assumir os valores **'Rural'** ou **'Urban'**.\n",
    "- **avg_glucose_level:** nível de glicose média no sangue.\n",
    "- **bmi:** índice de massa corporal (IMC)\n",
    "- **smoking_status:** classifica os participantes com relação ao fumo, nas seguintes categorias:\n",
    "    - **never smoked:** o participante nunca fumou\n",
    "    - **Unknown:** classificação desconhecida\n",
    "    - **formerly smoked:** o participante já fumou anteriormente\n",
    "    - **smokes:** o participante fuma\n",
    "\n",
    "A coluna **'id'** registra os identificadores únicos de cada amostra."
   ]
  },
  {
   "cell_type": "code",
   "execution_count": 131,
   "metadata": {
    "cell_id": "00002-dd8f7682-87fd-4f97-97f5-716443f9f970",
    "deepnote_cell_type": "code",
    "deepnote_to_be_reexecuted": false,
    "execution_millis": 1,
    "execution_start": 1626490230390,
    "source_hash": "b184c9a0",
    "tags": []
   },
   "outputs": [],
   "source": [
    "# Importar os dados - The data contains 5110 observations with 12 attributes.\n",
    "path = \"./data/healthcare-dataset-stroke-data.csv\"\n",
    "\n",
    "# Criar um data frame - registramos a coluna 'id' como coluna de indexação.\n",
    "df = pd.read_csv(path, sep=\",\", header=0, index_col=0)\n",
    "\n",
    "#Reconfigurando os dados binários\n",
    "df['hypertension'] = df['hypertension'].map({1:True, 0:False})\n",
    "df['heart_disease'] = df['heart_disease'].map({1:True, 0:False})\n",
    "df['ever_married'] = df['ever_married'].map({'Yes':True, 'No':False})\n",
    "df['stroke'] = df['stroke'].map({1:True, 0:False})"
   ]
  },
  {
   "cell_type": "code",
   "execution_count": 132,
   "metadata": {
    "cell_id": "00008-7fee58dd-7c6f-4b08-927c-e9d0dfe01a2d",
    "deepnote_cell_type": "code",
    "deepnote_to_be_reexecuted": false,
    "execution_millis": 138,
    "execution_start": 1626490230720,
    "source_hash": "f804c160",
    "tags": []
   },
   "outputs": [
    {
     "data": {
      "text/html": [
       "<div>\n",
       "<style scoped>\n",
       "    .dataframe tbody tr th:only-of-type {\n",
       "        vertical-align: middle;\n",
       "    }\n",
       "\n",
       "    .dataframe tbody tr th {\n",
       "        vertical-align: top;\n",
       "    }\n",
       "\n",
       "    .dataframe thead th {\n",
       "        text-align: right;\n",
       "    }\n",
       "</style>\n",
       "<table border=\"1\" class=\"dataframe\">\n",
       "  <thead>\n",
       "    <tr style=\"text-align: right;\">\n",
       "      <th></th>\n",
       "      <th>gender</th>\n",
       "      <th>age</th>\n",
       "      <th>hypertension</th>\n",
       "      <th>heart_disease</th>\n",
       "      <th>ever_married</th>\n",
       "      <th>work_type</th>\n",
       "      <th>Residence_type</th>\n",
       "      <th>avg_glucose_level</th>\n",
       "      <th>bmi</th>\n",
       "      <th>smoking_status</th>\n",
       "      <th>stroke</th>\n",
       "    </tr>\n",
       "    <tr>\n",
       "      <th>id</th>\n",
       "      <th></th>\n",
       "      <th></th>\n",
       "      <th></th>\n",
       "      <th></th>\n",
       "      <th></th>\n",
       "      <th></th>\n",
       "      <th></th>\n",
       "      <th></th>\n",
       "      <th></th>\n",
       "      <th></th>\n",
       "      <th></th>\n",
       "    </tr>\n",
       "  </thead>\n",
       "  <tbody>\n",
       "    <tr>\n",
       "      <th>9046</th>\n",
       "      <td>Male</td>\n",
       "      <td>67.0</td>\n",
       "      <td>False</td>\n",
       "      <td>True</td>\n",
       "      <td>True</td>\n",
       "      <td>Private</td>\n",
       "      <td>Urban</td>\n",
       "      <td>228.69</td>\n",
       "      <td>36.6</td>\n",
       "      <td>formerly smoked</td>\n",
       "      <td>True</td>\n",
       "    </tr>\n",
       "    <tr>\n",
       "      <th>51676</th>\n",
       "      <td>Female</td>\n",
       "      <td>61.0</td>\n",
       "      <td>False</td>\n",
       "      <td>False</td>\n",
       "      <td>True</td>\n",
       "      <td>Self-employed</td>\n",
       "      <td>Rural</td>\n",
       "      <td>202.21</td>\n",
       "      <td>NaN</td>\n",
       "      <td>never smoked</td>\n",
       "      <td>True</td>\n",
       "    </tr>\n",
       "    <tr>\n",
       "      <th>31112</th>\n",
       "      <td>Male</td>\n",
       "      <td>80.0</td>\n",
       "      <td>False</td>\n",
       "      <td>True</td>\n",
       "      <td>True</td>\n",
       "      <td>Private</td>\n",
       "      <td>Rural</td>\n",
       "      <td>105.92</td>\n",
       "      <td>32.5</td>\n",
       "      <td>never smoked</td>\n",
       "      <td>True</td>\n",
       "    </tr>\n",
       "    <tr>\n",
       "      <th>60182</th>\n",
       "      <td>Female</td>\n",
       "      <td>49.0</td>\n",
       "      <td>False</td>\n",
       "      <td>False</td>\n",
       "      <td>True</td>\n",
       "      <td>Private</td>\n",
       "      <td>Urban</td>\n",
       "      <td>171.23</td>\n",
       "      <td>34.4</td>\n",
       "      <td>smokes</td>\n",
       "      <td>True</td>\n",
       "    </tr>\n",
       "    <tr>\n",
       "      <th>1665</th>\n",
       "      <td>Female</td>\n",
       "      <td>79.0</td>\n",
       "      <td>True</td>\n",
       "      <td>False</td>\n",
       "      <td>True</td>\n",
       "      <td>Self-employed</td>\n",
       "      <td>Rural</td>\n",
       "      <td>174.12</td>\n",
       "      <td>24.0</td>\n",
       "      <td>never smoked</td>\n",
       "      <td>True</td>\n",
       "    </tr>\n",
       "    <tr>\n",
       "      <th>...</th>\n",
       "      <td>...</td>\n",
       "      <td>...</td>\n",
       "      <td>...</td>\n",
       "      <td>...</td>\n",
       "      <td>...</td>\n",
       "      <td>...</td>\n",
       "      <td>...</td>\n",
       "      <td>...</td>\n",
       "      <td>...</td>\n",
       "      <td>...</td>\n",
       "      <td>...</td>\n",
       "    </tr>\n",
       "    <tr>\n",
       "      <th>18234</th>\n",
       "      <td>Female</td>\n",
       "      <td>80.0</td>\n",
       "      <td>True</td>\n",
       "      <td>False</td>\n",
       "      <td>True</td>\n",
       "      <td>Private</td>\n",
       "      <td>Urban</td>\n",
       "      <td>83.75</td>\n",
       "      <td>NaN</td>\n",
       "      <td>never smoked</td>\n",
       "      <td>False</td>\n",
       "    </tr>\n",
       "    <tr>\n",
       "      <th>44873</th>\n",
       "      <td>Female</td>\n",
       "      <td>81.0</td>\n",
       "      <td>False</td>\n",
       "      <td>False</td>\n",
       "      <td>True</td>\n",
       "      <td>Self-employed</td>\n",
       "      <td>Urban</td>\n",
       "      <td>125.20</td>\n",
       "      <td>40.0</td>\n",
       "      <td>never smoked</td>\n",
       "      <td>False</td>\n",
       "    </tr>\n",
       "    <tr>\n",
       "      <th>19723</th>\n",
       "      <td>Female</td>\n",
       "      <td>35.0</td>\n",
       "      <td>False</td>\n",
       "      <td>False</td>\n",
       "      <td>True</td>\n",
       "      <td>Self-employed</td>\n",
       "      <td>Rural</td>\n",
       "      <td>82.99</td>\n",
       "      <td>30.6</td>\n",
       "      <td>never smoked</td>\n",
       "      <td>False</td>\n",
       "    </tr>\n",
       "    <tr>\n",
       "      <th>37544</th>\n",
       "      <td>Male</td>\n",
       "      <td>51.0</td>\n",
       "      <td>False</td>\n",
       "      <td>False</td>\n",
       "      <td>True</td>\n",
       "      <td>Private</td>\n",
       "      <td>Rural</td>\n",
       "      <td>166.29</td>\n",
       "      <td>25.6</td>\n",
       "      <td>formerly smoked</td>\n",
       "      <td>False</td>\n",
       "    </tr>\n",
       "    <tr>\n",
       "      <th>44679</th>\n",
       "      <td>Female</td>\n",
       "      <td>44.0</td>\n",
       "      <td>False</td>\n",
       "      <td>False</td>\n",
       "      <td>True</td>\n",
       "      <td>Govt_job</td>\n",
       "      <td>Urban</td>\n",
       "      <td>85.28</td>\n",
       "      <td>26.2</td>\n",
       "      <td>Unknown</td>\n",
       "      <td>False</td>\n",
       "    </tr>\n",
       "  </tbody>\n",
       "</table>\n",
       "<p>5110 rows × 11 columns</p>\n",
       "</div>"
      ],
      "text/plain": [
       "       gender   age  hypertension  heart_disease  ever_married      work_type  \\\n",
       "id                                                                              \n",
       "9046     Male  67.0         False           True          True        Private   \n",
       "51676  Female  61.0         False          False          True  Self-employed   \n",
       "31112    Male  80.0         False           True          True        Private   \n",
       "60182  Female  49.0         False          False          True        Private   \n",
       "1665   Female  79.0          True          False          True  Self-employed   \n",
       "...       ...   ...           ...            ...           ...            ...   \n",
       "18234  Female  80.0          True          False          True        Private   \n",
       "44873  Female  81.0         False          False          True  Self-employed   \n",
       "19723  Female  35.0         False          False          True  Self-employed   \n",
       "37544    Male  51.0         False          False          True        Private   \n",
       "44679  Female  44.0         False          False          True       Govt_job   \n",
       "\n",
       "      Residence_type  avg_glucose_level   bmi   smoking_status  stroke  \n",
       "id                                                                      \n",
       "9046           Urban             228.69  36.6  formerly smoked    True  \n",
       "51676          Rural             202.21   NaN     never smoked    True  \n",
       "31112          Rural             105.92  32.5     never smoked    True  \n",
       "60182          Urban             171.23  34.4           smokes    True  \n",
       "1665           Rural             174.12  24.0     never smoked    True  \n",
       "...              ...                ...   ...              ...     ...  \n",
       "18234          Urban              83.75   NaN     never smoked   False  \n",
       "44873          Urban             125.20  40.0     never smoked   False  \n",
       "19723          Rural              82.99  30.6     never smoked   False  \n",
       "37544          Rural             166.29  25.6  formerly smoked   False  \n",
       "44679          Urban              85.28  26.2          Unknown   False  \n",
       "\n",
       "[5110 rows x 11 columns]"
      ]
     },
     "execution_count": 132,
     "metadata": {},
     "output_type": "execute_result"
    }
   ],
   "source": [
    "df"
   ]
  },
  {
   "cell_type": "markdown",
   "metadata": {
    "cell_id": "00007-2889a7c9-003a-4163-986b-a68e6365b941",
    "deepnote_cell_type": "markdown",
    "tags": []
   },
   "source": [
    "# Dados incompletos\n",
    "\n",
    "Uma estratégia básica para lidar com datasets incompletos, é a de descartar linhas e colunas contendo dados indefinidos. Uma estratégia melhor, para aproveitar estes dados incompletos, é a de inferir valores baseando-se nos dados já conhecidos.\n",
    "\n",
    "Para cada coluna do dataset, apresentamos a porcentagem de dados incompletos:\n",
    "\n",
    "<table>\n",
    "    <tr>\n",
    "        <th style=\"border:1px black solid; padding: 0px 10px\">Coluna</th>\n",
    "        <th style=\"border:1px black solid; padding: 0px 10px\">Porcentagem de dados incompletos (%)</th>\n",
    "    </tr>\n",
    "    <tr>\n",
    "        <td style=\"border:1px black solid; padding: 0px 10px\">smoking_status</td>\n",
    "        <td style=\"border:1px black solid; padding: 0px 10px\">30.22</td>\n",
    "    </tr>\n",
    "    <tr>\n",
    "        <td style=\"border:1px black solid; padding: 0px 10px\">bmi</td>\n",
    "        <td style=\"border:1px black solid; padding: 0px 10px\">3.93</td>\n",
    "    </tr>\n",
    "    <tr>\n",
    "        <td style=\"border:1px black solid; padding: 0px 10px\">gender</td>\n",
    "        <td style=\"border:1px black solid; padding: 0px 10px\">0.02</td>\n",
    "    </tr>\n",
    "    <tr>\n",
    "        <td style=\"border:1px black solid; padding: 0px 10px\">age</td>\n",
    "        <td style=\"border:1px black solid; padding: 0px 10px\">0.00</td>\n",
    "    </tr>\n",
    "    <tr>\n",
    "        <td style=\"border:1px black solid; padding: 0px 10px\">hypertension</td>\n",
    "        <td style=\"border:1px black solid; padding: 0px 10px\">0.00</td>\n",
    "    </tr>\n",
    "    <tr>\n",
    "        <td style=\"border:1px black solid; padding: 0px 10px\">heart_disease</td>\n",
    "        <td style=\"border:1px black solid; padding: 0px 10px\">0.00</td>\n",
    "    </tr>\n",
    "    <tr>\n",
    "        <td style=\"border:1px black solid; padding: 0px 10px\">ever_married</td>\n",
    "        <td style=\"border:1px black solid; padding: 0px 10px\">0.00</td>\n",
    "    </tr>\n",
    "    <tr>\n",
    "        <td style=\"border:1px black solid; padding: 0px 10px\">work_type</td>\n",
    "        <td style=\"border:1px black solid; padding: 0px 10px\">0.00</td>\n",
    "    </tr>\n",
    "    <tr>\n",
    "        <td style=\"border:1px black solid; padding: 0px 10px\">Residence_type</td>\n",
    "        <td style=\"border:1px black solid; padding: 0px 10px\">0.00</td>\n",
    "    </tr>\n",
    "    <tr>\n",
    "        <td style=\"border:1px black solid; padding: 0px 10px\">avg_glucose_level</td>\n",
    "        <td style=\"border:1px black solid; padding: 0px 10px\">0.00</td>\n",
    "    </tr>\n",
    "</table>\n",
    "\n",
    "<br/>\n",
    "\n",
    "Como a porcentagem de dados conhecidos na coluna \"smoking_status\" é muito significativa, não é possível inferir valores substitutos com qualidade. Portanto, decidimos descartar estas entradas do dataset.\n",
    "\n",
    "Para o caso do Índice de Massa Corporal (IMC), representado pela coluna \"bmi\", resolvemos realizar a inferência dos valores substitutos utilizando a média dos valores conhecidos.\n",
    "\n",
    "Existe apenas uma entrada para o gênero 'Other'. Dessa forma, também o substituiremos pelo gênero mais comum."
   ]
  },
  {
   "cell_type": "code",
   "execution_count": 133,
   "metadata": {
    "cell_id": "00008-a46a9197-b0f8-4c34-b926-ccb3e953675e",
    "deepnote_cell_type": "code",
    "deepnote_to_be_reexecuted": false,
    "execution_millis": 16,
    "execution_start": 1626490235214,
    "source_hash": "da62ed65",
    "tags": []
   },
   "outputs": [
    {
     "name": "stdout",
     "output_type": "stream",
     "text": [
      "smoking_status       30.22\n",
      "bmi                   3.93\n",
      "gender                0.02\n",
      "age                   0.00\n",
      "hypertension          0.00\n",
      "heart_disease         0.00\n",
      "ever_married          0.00\n",
      "work_type             0.00\n",
      "Residence_type        0.00\n",
      "avg_glucose_level     0.00\n",
      "stroke                0.00\n",
      "dtype: float64\n"
     ]
    }
   ],
   "source": [
    "# Marcar o 'smoking_status' 'Unknown' como um dado inexistente\n",
    "df['smoking_status'] = df['smoking_status'].replace({'Unknown': np.nan})\n",
    "\n",
    "# Marcar o gênero 'Other' como um dado inexistente. Isso é uma peculiaridade para transformá-lo no tipo de dado mais comum.\n",
    "df['gender'] = df['gender'].replace({'Other': np.nan})\n",
    "\n",
    "# Imprimir a porcentagem de dados inexistentes em todas as categorias\n",
    "print(df.isnull().mean().round(4).mul(100).sort_values(ascending=False))"
   ]
  },
  {
   "cell_type": "code",
   "execution_count": 134,
   "metadata": {
    "cell_id": "00009-7a937b7d-610f-4190-9a87-0af111e357e0",
    "deepnote_cell_type": "code",
    "deepnote_to_be_reexecuted": false,
    "execution_millis": 18,
    "execution_start": 1626490235516,
    "source_hash": "7ae44d1e",
    "tags": []
   },
   "outputs": [],
   "source": [
    "# Descartar dados incompletos na coluna 'smoking_status'\n",
    "df = df.dropna(subset=['smoking_status'])\n",
    "\n",
    "#Inferir dados para completar as colunas bmi e gender\n",
    "df = DataFrameImputer().fit_transform(df)"
   ]
  },
  {
   "cell_type": "markdown",
   "metadata": {
    "cell_id": "00011-bdc7e9fd-7359-4c2b-8e02-83065877961e",
    "deepnote_cell_type": "markdown",
    "tags": []
   },
   "source": [
    "# Treinamento"
   ]
  },
  {
   "cell_type": "markdown",
   "metadata": {
    "cell_id": "00014-5ebfa5f9-513c-4e8a-8691-a8ef7c32bded",
    "deepnote_cell_type": "markdown",
    "tags": []
   },
   "source": [
    "Para construir nosso classificador, escolhemos uma estratégia utilizando árvores de decisão e _ensembles_, por lidarmos com dados categoricos. Optamos por utilizar o algoritmo C4.5, disponível na biblioteca \"chefboost\".\n",
    "\n",
    "Primeiramente, precisamos renomear a coluna contendo a anotação dos dados como 'precision', e transformar seu datatype para 'object'."
   ]
  },
  {
   "cell_type": "code",
   "execution_count": 135,
   "metadata": {
    "cell_id": "00015-1103c02b-5a16-4d38-ae9a-8bcb330d4559",
    "deepnote_cell_type": "code",
    "deepnote_to_be_reexecuted": false,
    "execution_millis": 0,
    "execution_start": 1626490472650,
    "output_cleared": false,
    "source_hash": "46cf5f2b",
    "tags": []
   },
   "outputs": [],
   "source": [
    "df = df.rename(columns={\"stroke\": \"Decision\"})\n",
    "\n",
    "#Configurando o datatype da anotação dos dados\n",
    "#df['gender'] = df['gender'].astype(str)\n",
    "#df['age'] = df['age'].astype(float)\n",
    "#df['hypertension'] = df['hypertension'].astype(bool)\n",
    "#df['heart_disease'] = df['heart_disease'].astype(bool)\n",
    "#df['ever_married'] = df['ever_married'].astype(bool)\n",
    "#df['work_type'] = df['work_type'].astype(str)\n",
    "#df['Residence_type'] = df['Residence_type'].astype(str)\n",
    "#df['avg_glucose_level'] = df['avg_glucose_level'].astype(float)\n",
    "#df['bmi'] = df['bmi'].astype(float)\n",
    "#df['smoking_status'] = df['smoking_status'].astype(str)\n",
    "\n",
    "df['Decision'] = df['Decision'].astype(object)\n",
    "\n",
    "\n",
    "df = df.astype(object)"
   ]
  },
  {
   "cell_type": "code",
   "execution_count": 136,
   "metadata": {
    "cell_id": "00014-8544c950-4bc3-4b03-a4d9-265e2909115e",
    "deepnote_cell_type": "code",
    "deepnote_to_be_reexecuted": false,
    "execution_millis": 4,
    "execution_start": 1626490473584,
    "source_hash": "26a820d4",
    "tags": []
   },
   "outputs": [
    {
     "name": "stdout",
     "output_type": "stream",
     "text": [
      "Dados restantes após o pré-processamento: 3566\n"
     ]
    }
   ],
   "source": [
    "print(\"Dados restantes após o pré-processamento:\", len(df))"
   ]
  },
  {
   "cell_type": "markdown",
   "metadata": {
    "cell_id": "00011-4a755fce-5cbe-4016-9292-b879d5a65a0b",
    "deepnote_cell_type": "markdown",
    "tags": []
   },
   "source": [
    "Agora que já tratamos nossos dados, podemos dividir nosso _dataset_ para treino e teste.\n",
    "\n",
    "Dos 3.566 dados restantes após o pré-processamento, atribuímos 80% destes para treinamento, e 20% para teste."
   ]
  },
  {
   "cell_type": "code",
   "execution_count": 137,
   "metadata": {
    "cell_id": "00016-7aa15328-2484-419f-895a-faf37570267b",
    "deepnote_cell_type": "code",
    "deepnote_to_be_reexecuted": false,
    "execution_millis": 5,
    "execution_start": 1626490474783,
    "source_hash": "79c9d2a0",
    "tags": []
   },
   "outputs": [],
   "source": [
    "msk = np.random.rand(len(df)) < 0.9\n",
    "\n",
    "train = df[msk]\n",
    "test = df[~msk]"
   ]
  },
  {
   "cell_type": "markdown",
   "metadata": {
    "cell_id": "00017-9f3bdd31-97a1-4c12-90ad-30defbf047b4",
    "deepnote_cell_type": "markdown",
    "tags": []
   },
   "source": [
    "Podemos treinar nosso modelo:"
   ]
  },
  {
   "cell_type": "code",
   "execution_count": 138,
   "metadata": {
    "cell_id": "00014-94f2365f-df8c-4bce-bcdb-e3ebb52aa63a",
    "deepnote_cell_type": "code",
    "deepnote_to_be_reexecuted": false,
    "execution_millis": 1097375,
    "execution_start": 1626493419749,
    "source_hash": "748c5ffa",
    "tags": []
   },
   "outputs": [
    {
     "name": "stdout",
     "output_type": "stream",
     "text": [
      "[INFO]:  4 CPU cores will be allocated in parallel running\n",
      "C4.5  tree is going to be built...\n",
      "-------------------------\n",
      "finished in  435.6502866744995  seconds\n",
      "-------------------------\n",
      "Evaluate  train set\n",
      "-------------------------\n",
      "Accuracy:  0.0 % on  3566  instances\n",
      "Labels:  [True False]\n",
      "Confusion matrix:  [[0, 0], [0, 0]]\n",
      "Precision:  0.0 %, Recall:  0.0 %, F1:  0.0 %\n"
     ]
    }
   ],
   "source": [
    "config = {'algorithm': 'C4.5'}\n",
    "model = chef.fit(df, config = config)"
   ]
  },
  {
   "cell_type": "code",
   "execution_count": 143,
   "metadata": {
    "cell_id": "00019-918ad2b7-7566-4b2f-af47-c537a8f6e0a5",
    "deepnote_cell_type": "code",
    "deepnote_to_be_reexecuted": false,
    "execution_millis": 7,
    "execution_start": 1626493095709,
    "source_hash": "ae5a5b2c",
    "tags": []
   },
   "outputs": [
    {
     "name": "stdout",
     "output_type": "stream",
     "text": [
      "False\n"
     ]
    }
   ],
   "source": [
    "prediction = chef.predict(model, param = ['Male', 22, False, False, False, 'Private', 'Urban',89.22, 30.290046701692937, 'never smoked'])\n",
    "\n",
    "print(prediction)"
   ]
  },
  {
   "cell_type": "code",
   "execution_count": 144,
   "metadata": {
    "cell_id": "00022-0a138fa3-98ab-4fe2-9542-0acfdb560e37",
    "deepnote_cell_type": "code",
    "deepnote_to_be_reexecuted": false,
    "execution_millis": 0,
    "execution_start": 1626493083646,
    "source_hash": "f5dd83f",
    "tags": []
   },
   "outputs": [
    {
     "name": "stdout",
     "output_type": "stream",
     "text": [
      "False\n"
     ]
    }
   ],
   "source": [
    "prediction = chef.predict(model, param = ['Male', 179, True, True, True, 'Self-employed', 'Rural', 1189.22, 1160.290046701692937, 'smokes'])\n",
    "\n",
    "print(prediction)"
   ]
  },
  {
   "cell_type": "code",
   "execution_count": 145,
   "metadata": {
    "cell_id": "00024-17ea6a69-4404-4b37-973c-bd43ab406ea7",
    "deepnote_cell_type": "code",
    "deepnote_to_be_reexecuted": false,
    "execution_millis": 7,
    "execution_start": 1626493085945,
    "source_hash": "bebeeb94",
    "tags": []
   },
   "outputs": [
    {
     "name": "stdout",
     "output_type": "stream",
     "text": [
      "False\n"
     ]
    }
   ],
   "source": [
    "prediction = chef.predict(model, param = ['Male', 80, False, True, True, 'Self-employed', 'Urban', 30.5, 252.72, 'formerly smoked'])\n",
    "\n",
    "print(prediction)"
   ]
  },
  {
   "cell_type": "code",
   "execution_count": 147,
   "metadata": {},
   "outputs": [
    {
     "name": "stdout",
     "output_type": "stream",
     "text": [
      "False\n"
     ]
    },
    {
     "data": {
      "text/plain": [
       "['Preprocess',\n",
       " 'Training',\n",
       " '__builtins__',\n",
       " '__cached__',\n",
       " '__doc__',\n",
       " '__file__',\n",
       " '__loader__',\n",
       " '__name__',\n",
       " '__package__',\n",
       " '__spec__',\n",
       " '__warningregistry__',\n",
       " 'adaboost',\n",
       " 'eval',\n",
       " 'evaluate',\n",
       " 'feature_importance',\n",
       " 'fit',\n",
       " 'functions',\n",
       " 'gbm',\n",
       " 'imp',\n",
       " 'json',\n",
       " 'load_model',\n",
       " 'math',\n",
       " 'np',\n",
       " 'os',\n",
       " 'path',\n",
       " 'pd',\n",
       " 'pickle',\n",
       " 'predict',\n",
       " 'randomforest',\n",
       " 'restoreTree',\n",
       " 'save_model',\n",
       " 'time']"
      ]
     },
     "execution_count": 147,
     "metadata": {},
     "output_type": "execute_result"
    }
   ],
   "source": [
    "prediction = chef.predict(model, param = ['Female', 34.0, False, True, True, 'Private', 'Rural', 174.37, 23.0, 'never smoked'])\n",
    "\n",
    "print(prediction)"
   ]
  },
  {
   "cell_type": "markdown",
   "metadata": {
    "cell_id": "00011-27c4ee8e-62f7-41a1-9654-418a7072571d",
    "deepnote_cell_type": "markdown",
    "tags": []
   },
   "source": [
    "# Bibliografia\n",
    "\n",
    "- Documentação da biblioteca SciKit-Learn, disponível em https://scikit-learn.org/stable/index.html\n",
    "- Stroke prediction dataset, disponível em https://www.kaggle.com/fedesoriano/stroke-prediction-dataset\n",
    "- DataFrameImputer class, disponível em https://stackoverflow.com/questions/26266362/how-to-count-the-nan-values-in-a-column-in-pandas-dataframe\n",
    "- Biblioteca chefboost, disponível em https://github.com/serengil/chefboost"
   ]
  },
  {
   "cell_type": "markdown",
   "metadata": {
    "cell_id": "00012-84f03c52-0a9e-4852-8213-33753d2d805e",
    "deepnote_cell_type": "markdown",
    "tags": []
   },
   "source": [
    "<hr>"
   ]
  },
  {
   "cell_type": "markdown",
   "metadata": {
    "cell_id": "00009-5611a955-a00d-4a5e-9441-dac5fefd69f8",
    "deepnote_cell_type": "markdown",
    "tags": []
   },
   "source": [
    "One hot encoding -> transformar dados categoricos em binarios"
   ]
  },
  {
   "cell_type": "code",
   "execution_count": null,
   "metadata": {
    "cell_id": "00011-af42d414-a611-4338-9762-d9185e2fda0d",
    "deepnote_cell_type": "code",
    "deepnote_to_be_reexecuted": true,
    "execution_millis": 105,
    "execution_start": 1626475774713,
    "source_hash": "855412bb",
    "tags": []
   },
   "outputs": [],
   "source": [
    "datasetDict = df.to_dict()\n",
    "datasetMatrix = df.to_numpy()"
   ]
  },
  {
   "cell_type": "code",
   "execution_count": null,
   "metadata": {
    "cell_id": "00003-7690e67a-3a92-45e6-afcf-5c253037f79e",
    "deepnote_cell_type": "code",
    "deepnote_to_be_reexecuted": true,
    "execution_millis": 404,
    "execution_start": 1626475774836,
    "source_hash": "49b49def",
    "tags": []
   },
   "outputs": [
    {
     "ename": "NameError",
     "evalue": "name 'train_test_split' is not defined",
     "output_type": "error",
     "traceback": [
      "\u001b[0;31m---------------------------------------------------------------------------\u001b[0m",
      "\u001b[0;31mNameError\u001b[0m                                 Traceback (most recent call last)",
      "\u001b[0;32m/tmp/ipykernel_217/2363464405.py\u001b[0m in \u001b[0;36m<module>\u001b[0;34m\u001b[0m\n\u001b[1;32m      1\u001b[0m \u001b[0;31m#Divide dataset in two - 10%/90%\u001b[0m\u001b[0;34m\u001b[0m\u001b[0;34m\u001b[0m\u001b[0;34m\u001b[0m\u001b[0m\n\u001b[0;32m----> 2\u001b[0;31m X_train_NN, X_test_NN, y_train_NN, y_test_NN = train_test_split(\n\u001b[0m\u001b[1;32m      3\u001b[0m     dataNN, dataset_digits.target, test_size=0.1, shuffle=False)\n\u001b[1;32m      4\u001b[0m \u001b[0;34m\u001b[0m\u001b[0m\n\u001b[1;32m      5\u001b[0m \u001b[0mdataset\u001b[0m\u001b[0;34m\u001b[0m\u001b[0;34m\u001b[0m\u001b[0m\n",
      "\u001b[0;31mNameError\u001b[0m: name 'train_test_split' is not defined"
     ]
    }
   ],
   "source": [
    "#Divide dataset in two - 10%/90%\n",
    "X_train_NN, X_test_NN, y_train_NN, y_test_NN = train_test_split(\n",
    "    dataNN, dataset_digits.target, test_size=0.1, shuffle=False)\n",
    "\n",
    "dataset"
   ]
  },
  {
   "cell_type": "markdown",
   "metadata": {
    "created_in_deepnote_cell": true,
    "deepnote_cell_type": "markdown",
    "tags": []
   },
   "source": [
    "<a style='text-decoration:none;line-height:16px;display:flex;color:#5B5B62;padding:10px;justify-content:end;' href='https://deepnote.com?utm_source=created-in-deepnote-cell&projectId=05e63193-46e2-402d-9694-8d7afefa0eed' target=\"_blank\">\n",
    "<img alt='Created in deepnote.com' style='display:inline;max-height:16px;margin:0px;margin-right:7.5px;' src='data:image/svg+xml;base64,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' > </img>\n",
    "Created in <span style='font-weight:600;margin-left:4px;'>Deepnote</span></a>"
   ]
  }
 ],
 "metadata": {
  "deepnote": {
   "is_reactive": false
  },
  "deepnote_execution_queue": [],
  "deepnote_notebook_id": "60d64ee2-6a6f-4466-ac5a-0bafa36bac23",
  "kernelspec": {
   "display_name": "Python 3 (ipykernel)",
   "language": "python",
   "name": "python3"
  },
  "language_info": {
   "codemirror_mode": {
    "name": "ipython",
    "version": 3
   },
   "file_extension": ".py",
   "mimetype": "text/x-python",
   "name": "python",
   "nbconvert_exporter": "python",
   "pygments_lexer": "ipython3",
   "version": "3.7.6"
  }
 },
 "nbformat": 4,
 "nbformat_minor": 4
}
